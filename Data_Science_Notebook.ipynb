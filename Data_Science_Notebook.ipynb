{
  "nbformat": 4,
  "nbformat_minor": 0,
  "metadata": {
    "colab": {
      "provenance": [],
      "authorship_tag": "ABX9TyOLf13DPLANBVsZLIrwTGfJ",
      "include_colab_link": true
    },
    "kernelspec": {
      "name": "python3",
      "display_name": "Python 3"
    },
    "language_info": {
      "name": "python"
    }
  },
  "cells": [
    {
      "cell_type": "markdown",
      "metadata": {
        "id": "view-in-github",
        "colab_type": "text"
      },
      "source": [
        "<a href=\"https://colab.research.google.com/github/choccatadev/DataScienceNotebook/blob/main/Data_Science_Notebook.ipynb\" target=\"_parent\"><img src=\"https://colab.research.google.com/assets/colab-badge.svg\" alt=\"Open In Colab\"/></a>"
      ]
    },
    {
      "cell_type": "markdown",
      "source": [
        "# Data Science Notebook\n"
      ],
      "metadata": {
        "id": "h3aIBHZwOjUR"
      }
    },
    {
      "cell_type": "markdown",
      "source": [
        "## Introduction\n",
        "This notebook covers fundamental concepts of data science, including languages, libraries, and tools used in the field. It also demonstrates some basic arithmetic operations."
      ],
      "metadata": {
        "id": "2yREnm24Ovfe"
      }
    },
    {
      "cell_type": "markdown",
      "source": [
        "## Data Science Languages\n",
        "Here is a list of popular programming languages used in data science:\n",
        "- Python\n",
        "- R\n",
        "- SQL\n",
        "- Julia\n",
        "- Scala\n",
        "\n"
      ],
      "metadata": {
        "id": "K-S7kQxIO08P"
      }
    },
    {
      "cell_type": "markdown",
      "source": [
        "## Data Science Libraries\n",
        "Some of the commonly used data science libraries include:\n",
        "- NumPy\n",
        "- Pandas\n",
        "- Matplotlib\n",
        "- Scikit-learn\n",
        "- TensorFlow"
      ],
      "metadata": {
        "id": "jLNbkw8XP8er"
      }
    },
    {
      "cell_type": "markdown",
      "source": [
        "## Data Science Tools\n",
        "| Tool          | Purpose                      |\n",
        "|---------------|------------------------------|\n",
        "| Jupyter       | Development environment       |\n",
        "| RStudio       | Integrated development environment for R |\n",
        "| Apache Spark  | Big data processing framework |\n",
        "| TensorFlow    | Machine learning framework    |\n",
        "| Tableau       | Data visualization tool       |"
      ],
      "metadata": {
        "id": "bscMURI2P_kO"
      }
    },
    {
      "cell_type": "markdown",
      "source": [
        "## Arithmetic Expressions\n",
        "Below are examples of basic arithmetic operations, such as addition and multiplication."
      ],
      "metadata": {
        "id": "De8lT9A-QDEF"
      }
    },
    {
      "cell_type": "code",
      "source": [
        "# Multiplication and addition\n",
        "a = 5 * 3\n",
        "b = a + 10\n",
        "b"
      ],
      "metadata": {
        "colab": {
          "base_uri": "https://localhost:8080/"
        },
        "id": "whehvftjQHxC",
        "outputId": "8f5ea26d-f5a4-4b2d-dbed-951147db7c00"
      },
      "execution_count": 1,
      "outputs": [
        {
          "output_type": "execute_result",
          "data": {
            "text/plain": [
              "25"
            ]
          },
          "metadata": {},
          "execution_count": 1
        }
      ]
    },
    {
      "cell_type": "code",
      "source": [
        "# Conversion from minutes to hours\n",
        "minutes = 150\n",
        "hours = minutes / 60\n",
        "hours"
      ],
      "metadata": {
        "colab": {
          "base_uri": "https://localhost:8080/"
        },
        "id": "QZKtgPxeQSG9",
        "outputId": "31772f48-49be-43ff-beb1-e7d8890be5c8"
      },
      "execution_count": 2,
      "outputs": [
        {
          "output_type": "execute_result",
          "data": {
            "text/plain": [
              "2.5"
            ]
          },
          "metadata": {},
          "execution_count": 2
        }
      ]
    },
    {
      "cell_type": "markdown",
      "source": [
        "## Objectives\n",
        "The objectives of this notebook are:\n",
        "- List common data science languages.\n",
        "- Identify popular data science libraries.\n",
        "- Explore basic arithmetic operations in code.\n",
        "- Convert units using Python code."
      ],
      "metadata": {
        "id": "VHtBZLNOQYe9"
      }
    },
    {
      "cell_type": "markdown",
      "source": [
        "## Author\n",
        "This notebook was created by Cesar Choccata."
      ],
      "metadata": {
        "id": "YtXSSaJuQbLO"
      }
    },
    {
      "cell_type": "code",
      "source": [],
      "metadata": {
        "id": "l84CgjeM6TG3"
      },
      "execution_count": null,
      "outputs": []
    }
  ]
}